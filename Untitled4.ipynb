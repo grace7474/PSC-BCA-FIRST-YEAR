{
 "cells": [
  {
   "cell_type": "code",
   "execution_count": 1,
   "id": "2e007f81-dfd3-4479-9ae0-4f66c217d3de",
   "metadata": {},
   "outputs": [],
   "source": [
    "name= (\"grace\")"
   ]
  },
  {
   "cell_type": "code",
   "execution_count": 2,
   "id": "20e6f261-8167-4985-afa2-5c3f4e5fcb11",
   "metadata": {},
   "outputs": [],
   "source": [
    "A= 1"
   ]
  },
  {
   "cell_type": "code",
   "execution_count": 3,
   "id": "3e9d5d9f-26c8-4bf9-8641-e5638f77e5db",
   "metadata": {},
   "outputs": [],
   "source": [
    "a = 5.8889"
   ]
  },
  {
   "cell_type": "code",
   "execution_count": 4,
   "id": "f3c011fe-700b-4a02-a36c-fa9e301d0dde",
   "metadata": {},
   "outputs": [
    {
     "data": {
      "text/plain": [
       "float"
      ]
     },
     "execution_count": 4,
     "metadata": {},
     "output_type": "execute_result"
    }
   ],
   "source": [
    "type (a)"
   ]
  },
  {
   "cell_type": "code",
   "execution_count": 6,
   "id": "fbca447a-1ee4-4972-ba99-81bb2202ba35",
   "metadata": {},
   "outputs": [],
   "source": [
    "a = 7+8j"
   ]
  },
  {
   "cell_type": "code",
   "execution_count": 7,
   "id": "86dcb5a8-228e-4005-80d6-1d4adfc2f5ef",
   "metadata": {},
   "outputs": [
    {
     "data": {
      "text/plain": [
       "complex"
      ]
     },
     "execution_count": 7,
     "metadata": {},
     "output_type": "execute_result"
    }
   ],
   "source": [
    "type (a)"
   ]
  },
  {
   "cell_type": "code",
   "execution_count": 9,
   "id": "9b7ae515-72a9-4288-81b6-5b6ac127dea7",
   "metadata": {},
   "outputs": [
    {
     "data": {
      "text/plain": [
       "69"
      ]
     },
     "execution_count": 9,
     "metadata": {},
     "output_type": "execute_result"
    }
   ],
   "source": [
    "1+68"
   ]
  },
  {
   "cell_type": "code",
   "execution_count": 13,
   "id": "a26497bd-7d76-4680-9ecf-ae61fd3f7ccb",
   "metadata": {},
   "outputs": [],
   "source": [
    "n= a=+a"
   ]
  },
  {
   "cell_type": "code",
   "execution_count": 14,
   "id": "d138fdaf-9a22-4164-87b4-d45098b159eb",
   "metadata": {},
   "outputs": [
    {
     "data": {
      "text/plain": [
       "(7+8j)"
      ]
     },
     "execution_count": 14,
     "metadata": {},
     "output_type": "execute_result"
    }
   ],
   "source": [
    "n"
   ]
  },
  {
   "cell_type": "code",
   "execution_count": 15,
   "id": "267cd60a-b374-4bd8-98f8-b1975d974c42",
   "metadata": {},
   "outputs": [
    {
     "data": {
      "text/plain": [
       "(-15+112j)"
      ]
     },
     "execution_count": 15,
     "metadata": {},
     "output_type": "execute_result"
    }
   ],
   "source": [
    "a*a"
   ]
  },
  {
   "cell_type": "code",
   "execution_count": 16,
   "id": "848b9553-a306-49fb-a1f2-31aaf8239b6c",
   "metadata": {},
   "outputs": [
    {
     "data": {
      "text/plain": [
       "(1+0j)"
      ]
     },
     "execution_count": 16,
     "metadata": {},
     "output_type": "execute_result"
    }
   ],
   "source": [
    "a/a"
   ]
  },
  {
   "cell_type": "code",
   "execution_count": 18,
   "id": "dc79a996-047a-4f4c-a84e-8100ce435ecf",
   "metadata": {},
   "outputs": [
    {
     "data": {
      "text/plain": [
       "1"
      ]
     },
     "execution_count": 18,
     "metadata": {},
     "output_type": "execute_result"
    }
   ],
   "source": [
    "True-False"
   ]
  },
  {
   "cell_type": "code",
   "execution_count": 20,
   "id": "32d7bb12-461e-4db7-989d-112266b6bfeb",
   "metadata": {},
   "outputs": [],
   "source": [
    "a = True"
   ]
  },
  {
   "cell_type": "code",
   "execution_count": 21,
   "id": "d040d424-7c21-4540-be75-ea5cfa68a410",
   "metadata": {},
   "outputs": [
    {
     "data": {
      "text/plain": [
       "bool"
      ]
     },
     "execution_count": 21,
     "metadata": {},
     "output_type": "execute_result"
    }
   ],
   "source": [
    "type(a)"
   ]
  },
  {
   "cell_type": "code",
   "execution_count": 23,
   "id": "94bb4298-33b6-4f0f-877f-4afde34c9907",
   "metadata": {},
   "outputs": [
    {
     "data": {
      "text/plain": [
       "-1"
      ]
     },
     "execution_count": 23,
     "metadata": {},
     "output_type": "execute_result"
    }
   ],
   "source": [
    "False-True"
   ]
  },
  {
   "cell_type": "code",
   "execution_count": 24,
   "id": "20b4c037-45c7-4aa2-a670-a142c879401b",
   "metadata": {},
   "outputs": [
    {
     "ename": "ZeroDivisionError",
     "evalue": "division by zero",
     "output_type": "error",
     "traceback": [
      "\u001b[0;31m---------------------------------------------------------------------------\u001b[0m",
      "\u001b[0;31mZeroDivisionError\u001b[0m                         Traceback (most recent call last)",
      "Cell \u001b[0;32mIn[24], line 1\u001b[0m\n\u001b[0;32m----> 1\u001b[0m \u001b[38;5;241m2\u001b[39m\u001b[38;5;241m/\u001b[39m\u001b[38;5;28;01mFalse\u001b[39;00m\n",
      "\u001b[0;31mZeroDivisionError\u001b[0m: division by zero"
     ]
    }
   ],
   "source": [
    "2/False"
   ]
  },
  {
   "cell_type": "code",
   "execution_count": 25,
   "id": "b76b9a9b-2913-4f9b-9b60-a33a93cf3417",
   "metadata": {},
   "outputs": [
    {
     "data": {
      "text/plain": [
       "'grace'"
      ]
     },
     "execution_count": 25,
     "metadata": {},
     "output_type": "execute_result"
    }
   ],
   "source": [
    "name[0:8]"
   ]
  },
  {
   "cell_type": "code",
   "execution_count": 26,
   "id": "54d4bf71-da0f-4211-ae0f-f1423a0869e0",
   "metadata": {},
   "outputs": [
    {
     "data": {
      "text/plain": [
       "'ace'"
      ]
     },
     "execution_count": 26,
     "metadata": {},
     "output_type": "execute_result"
    }
   ],
   "source": [
    " name[2:90]"
   ]
  },
  {
   "cell_type": "code",
   "execution_count": 31,
   "id": "19a60c14-e5d1-495c-a0d4-a45be67abbf6",
   "metadata": {},
   "outputs": [
    {
     "data": {
      "text/plain": [
       "'ae'"
      ]
     },
     "execution_count": 31,
     "metadata": {},
     "output_type": "execute_result"
    }
   ],
   "source": [
    "name[2:90:2]"
   ]
  },
  {
   "cell_type": "code",
   "execution_count": 32,
   "id": "609375c9-8ba4-4913-9b9e-65a1b87155f6",
   "metadata": {},
   "outputs": [],
   "source": [
    "name = "
   ]
  },
  {
   "cell_type": "code",
   "execution_count": null,
   "id": "7cb6a3c3-0238-4d90-960f-9cfa3f3be414",
   "metadata": {},
   "outputs": [],
   "source": []
  }
 ],
 "metadata": {
  "kernelspec": {
   "display_name": "Python 3 (ipykernel)",
   "language": "python",
   "name": "python3"
  },
  "language_info": {
   "codemirror_mode": {
    "name": "ipython",
    "version": 3
   },
   "file_extension": ".py",
   "mimetype": "text/x-python",
   "name": "python",
   "nbconvert_exporter": "python",
   "pygments_lexer": "ipython3",
   "version": "3.12.4"
  }
 },
 "nbformat": 4,
 "nbformat_minor": 5
}
